{
 "cells": [
  {
   "cell_type": "code",
   "execution_count": 1,
   "metadata": {},
   "outputs": [],
   "source": [
    "import numpy as np\n",
    "import pandas as pd"
   ]
  },
  {
   "cell_type": "code",
   "execution_count": 14,
   "metadata": {},
   "outputs": [],
   "source": [
    "AE = 'autoencoder'\n",
    "DCGAN = 'dcgan'\n",
    "SRNN = 'sketchrnn'\n",
    "SFRM = 'sketchformer'"
   ]
  },
  {
   "cell_type": "code",
   "execution_count": 15,
   "metadata": {},
   "outputs": [],
   "source": [
    "df = pd.read_csv ('../data/sketch-order.csv')"
   ]
  },
  {
   "cell_type": "code",
   "execution_count": 16,
   "metadata": {},
   "outputs": [],
   "source": [
    "df = df.fillna(\"\")"
   ]
  },
  {
   "cell_type": "code",
   "execution_count": 17,
   "metadata": {},
   "outputs": [],
   "source": [
    "top1_score = np.zeros(4)\n",
    "top3_score = np.zeros(4)\n",
    "top5_score = np.zeros(4)\n",
    "top10_score = np.zeros(4)\n",
    "category = \"arm_order\"\n",
    "#category = \"rabbit_order\"\n",
    "#category = \"tree_order\"\n",
    "\n",
    "for k in range(len(df[category])):\n",
    "    category_text = df[category][k].split('\\r\\n')\n",
    "    if(len(category_text) > 1):\n",
    "        if AE in category_text[0]:\n",
    "            top1_score[0] +=1\n",
    "        if DCGAN in category_text[0]:\n",
    "            top1_score[1] +=1\n",
    "        if SRNN in category_text[0]:\n",
    "            top1_score[2] +=1\n",
    "        if SFRM in category_text[0]:\n",
    "            top1_score[3] +=1\n",
    "\n",
    "        for i in range(3):\n",
    "            if AE in category_text[i]:\n",
    "                top3_score[0] +=1\n",
    "            if DCGAN in category_text[i]:\n",
    "                top3_score[1] +=1\n",
    "            if SRNN in category_text[i]:\n",
    "                top3_score[2] +=1\n",
    "            if SFRM in category_text[i]:\n",
    "                top3_score[3] +=1\n",
    "\n",
    "        for i in range(5):\n",
    "            if AE in category_text[i]:\n",
    "                top5_score[0] +=1\n",
    "            if DCGAN in category_text[i]:\n",
    "                top5_score[1] +=1\n",
    "            if SRNN in category_text[i]:\n",
    "                top5_score[2] +=1\n",
    "            if SFRM in category_text[i]:\n",
    "                top5_score[3] +=1\n",
    "\n",
    "        for i in range(10):\n",
    "            if AE in category_text[i]:\n",
    "                top10_score[0] +=1\n",
    "            if DCGAN in category_text[i]:\n",
    "                top10_score[1] +=1\n",
    "            if SRNN in category_text[i]:\n",
    "                top10_score[2] +=1\n",
    "            if SFRM in category_text[i]:\n",
    "                top10_score[3] +=1"
   ]
  },
  {
   "cell_type": "code",
   "execution_count": 18,
   "metadata": {},
   "outputs": [
    {
     "name": "stdout",
     "output_type": "stream",
     "text": [
      "[0.57142857 0.0952381  0.28571429 0.04761905]\n",
      "[0.55555556 0.17460317 0.23809524 0.03174603]\n",
      "[0.48571429 0.22857143 0.25714286 0.02857143]\n",
      "[0.37619048 0.27142857 0.23333333 0.11904762]\n"
     ]
    }
   ],
   "source": [
    "print(top1_score / np.sum(top1_score))\n",
    "print(top3_score / np.sum(top3_score))\n",
    "print(top5_score / np.sum(top5_score))\n",
    "print(top10_score / np.sum(top10_score))"
   ]
  },
  {
   "cell_type": "code",
   "execution_count": null,
   "metadata": {},
   "outputs": [],
   "source": []
  }
 ],
 "metadata": {
  "kernelspec": {
   "display_name": "Python 3",
   "language": "python",
   "name": "python3"
  },
  "language_info": {
   "codemirror_mode": {
    "name": "ipython",
    "version": 3
   },
   "file_extension": ".py",
   "mimetype": "text/x-python",
   "name": "python",
   "nbconvert_exporter": "python",
   "pygments_lexer": "ipython3",
   "version": "3.8.5"
  },
  "toc": {
   "base_numbering": 1,
   "nav_menu": {},
   "number_sections": true,
   "sideBar": true,
   "skip_h1_title": false,
   "title_cell": "Table of Contents",
   "title_sidebar": "Contents",
   "toc_cell": false,
   "toc_position": {},
   "toc_section_display": true,
   "toc_window_display": false
  },
  "varInspector": {
   "cols": {
    "lenName": 16,
    "lenType": 16,
    "lenVar": 40
   },
   "kernels_config": {
    "python": {
     "delete_cmd_postfix": "",
     "delete_cmd_prefix": "del ",
     "library": "var_list.py",
     "varRefreshCmd": "print(var_dic_list())"
    },
    "r": {
     "delete_cmd_postfix": ") ",
     "delete_cmd_prefix": "rm(",
     "library": "var_list.r",
     "varRefreshCmd": "cat(var_dic_list()) "
    }
   },
   "types_to_exclude": [
    "module",
    "function",
    "builtin_function_or_method",
    "instance",
    "_Feature"
   ],
   "window_display": false
  }
 },
 "nbformat": 4,
 "nbformat_minor": 4
}