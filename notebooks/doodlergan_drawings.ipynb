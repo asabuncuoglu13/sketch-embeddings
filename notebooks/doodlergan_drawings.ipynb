{
  "nbformat": 4,
  "nbformat_minor": 2,
  "metadata": {
    "colab": {
      "name": "doodlergan-drawings.ipynb",
      "provenance": [],
      "collapsed_sections": []
    },
    "kernelspec": {
      "name": "python3",
      "display_name": "Python 3"
    },
    "language_info": {
      "name": "python"
    }
  },
  "cells": [
    {
      "cell_type": "code",
      "execution_count": 1,
      "source": [
        "import os\n",
        "import cv2\n",
        "import json\n",
        "import copy\n",
        "import numpy as np\n",
        "import math\n",
        "import matplotlib.pyplot as plt\n",
        "from matplotlib import animation\n",
        "from IPython.display import HTML"
      ],
      "outputs": [],
      "metadata": {
        "id": "nFesK5vAkrmC"
      }
    },
    {
      "cell_type": "code",
      "execution_count": 12,
      "source": [
        "data = json.loads(open('sample_data/tail_0.json').read())"
      ],
      "outputs": [],
      "metadata": {
        "id": "Ewb_5f4ll_Dv"
      }
    },
    {
      "cell_type": "code",
      "execution_count": 13,
      "source": [
        "# print all keys\n",
        "keys = [k for k in data['input_parts']]\n",
        "print(keys)"
      ],
      "outputs": [
        {
          "output_type": "stream",
          "name": "stdout",
          "text": [
            "['initial', 'eye', 'head', 'body', 'beak', 'legs', 'wings', 'mouth', 'tail', 'arms', 'ears', 'feet', 'fin', 'hair', 'hands', 'horns', 'nose', 'paws']\n"
          ]
        }
      ],
      "metadata": {
        "colab": {
          "base_uri": "https://localhost:8080/"
        },
        "id": "cixEnUpEOUDx",
        "outputId": "ca4c273e-b2ec-4d21-eb14-802121d88383"
      }
    },
    {
      "cell_type": "code",
      "execution_count": 14,
      "source": [
        "# print the keys with a populated array\n",
        "keys = [k for k in data['input_parts'] if len(data['input_parts'][k]) > 0]\n",
        "print(keys)"
      ],
      "outputs": [
        {
          "output_type": "stream",
          "name": "stdout",
          "text": [
            "['initial', 'eye', 'head', 'body', 'beak', 'legs', 'wings']\n"
          ]
        }
      ],
      "metadata": {
        "colab": {
          "base_uri": "https://localhost:8080/"
        },
        "id": "dv5IcbPmPJAS",
        "outputId": "689a37b7-0ec3-44c2-8938-084d57d4a28b"
      }
    },
    {
      "cell_type": "code",
      "execution_count": 15,
      "source": [
        "def draw_part(drawing): \n",
        "    xs = [x[0] for x in drawing]\n",
        "    ys = [x[1] for x in drawing]\n",
        "    plt.scatter(xs, ys)"
      ],
      "outputs": [],
      "metadata": {
        "id": "tMUxdMxPmh6l"
      }
    },
    {
      "cell_type": "code",
      "execution_count": 16,
      "source": [
        "for k in keys:\n",
        "    draw_part(data['input_parts'][k][0])"
      ],
      "outputs": [
        {
          "output_type": "display_data",
          "data": {
            "image/png": "[encoded data removed]",
            "text/plain": [
              "<Figure size 432x288 with 1 Axes>"
            ]
          },
          "metadata": {
            "needs_background": "light"
          }
        }
      ],
      "metadata": {
        "colab": {
          "base_uri": "https://localhost:8080/",
          "height": 265
        },
        "id": "l_X6vdtxKPV7",
        "outputId": "c1a69c39-20bf-43b2-c87b-3ba31c64f54c"
      }
    },
    {
      "cell_type": "code",
      "execution_count": null,
      "source": [],
      "outputs": [],
      "metadata": {
        "id": "Lw_A9-G5MAc9"
      }
    }
  ]
}