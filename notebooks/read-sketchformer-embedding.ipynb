{
  "nbformat": 4,
  "nbformat_minor": 0,
  "metadata": {
    "kernelspec": {
      "display_name": "Python 3",
      "language": "python",
      "name": "python3"
    },
    "language_info": {
      "codemirror_mode": {
        "name": "ipython",
        "version": 3
      },
      "file_extension": ".py",
      "mimetype": "text/x-python",
      "name": "python",
      "nbconvert_exporter": "python",
      "pygments_lexer": "ipython3",
      "version": "3.8.5"
    },
    "toc": {
      "base_numbering": 1,
      "nav_menu": {},
      "number_sections": true,
      "sideBar": true,
      "skip_h1_title": false,
      "title_cell": "Table of Contents",
      "title_sidebar": "Contents",
      "toc_cell": false,
      "toc_position": {},
      "toc_section_display": true,
      "toc_window_display": false
    },
    "varInspector": {
      "cols": {
        "lenName": 16,
        "lenType": 16,
        "lenVar": 40
      },
      "kernels_config": {
        "python": {
          "delete_cmd_postfix": "",
          "delete_cmd_prefix": "del ",
          "library": "var_list.py",
          "varRefreshCmd": "print(var_dic_list())"
        },
        "r": {
          "delete_cmd_postfix": ") ",
          "delete_cmd_prefix": "rm(",
          "library": "var_list.r",
          "varRefreshCmd": "cat(var_dic_list()) "
        }
      },
      "types_to_exclude": [
        "module",
        "function",
        "builtin_function_or_method",
        "instance",
        "_Feature"
      ],
      "window_display": false
    },
    "colab": {
      "name": "read-embedding.ipynb",
      "provenance": [],
      "collapsed_sections": []
    }
  },
  "cells": [
    {
      "cell_type": "markdown",
      "metadata": {
        "id": "nPJ3dl1pAJba"
      },
      "source": [
        "# Sketchformer Embedding UMAP Viz"
      ]
    },
    {
      "cell_type": "code",
      "metadata": {
        "id": "mPQiIn7whPQd"
      },
      "source": [
        "import numpy as np\n",
        "import os\n",
        "from quickdraw import QuickDrawData\n",
        "import cv2 as cv2\n",
        "from scipy.spatial import distance as dstnc\n",
        "import xlsxwriter"
      ],
      "execution_count": null,
      "outputs": []
    },
    {
      "cell_type": "markdown",
      "metadata": {
        "id": "NuUqwxIkAqtO"
      },
      "source": [
        "Read the sketchformer embedding and find the average mass of the embedding."
      ]
    },
    {
      "cell_type": "code",
      "metadata": {
        "id": "BFffxwGAhPQi"
      },
      "source": [
        "reference_dict = dict()\n",
        "centroids = dict()\n",
        "global reference_dict\n",
        "directory = \"./deep-sketch/data-qd/cont_embed/\"\n",
        "filename = \"QD_150_samples_embeddings_cont.npz\"\n",
        "\n",
        "# can be optimized with\n",
        "embeddings = np.load(directory + filename,\n",
        "                      allow_pickle=True, encoding=\"latin1\")\n",
        "for embedding in embeddings[\"embeddings\"]:\n",
        "    embed_vector = embedding[0]\n",
        "    key_id = embedding[1]\n",
        "    class_name_raw = embedding[2]\n",
        "    class_name = class_name_raw.split(str(key_id))[0]\n",
        "    if class_name in reference_dict.keys():\n",
        "        current_list = reference_dict[class_name]\n",
        "        current_list[0].append(key_id)\n",
        "        current_list[1].append(embed_vector)\n",
        "        reference_dict[class_name] = current_list\n",
        "    else:\n",
        "        # This is the structure of ref_dict.\n",
        "        reference_dict[class_name] = [[key_id], [embed_vector]]\n",
        "\n",
        "for key in reference_dict.keys():\n",
        "    category_wise_embeddings = reference_dict[key][1]\n",
        "    category_centroid = np.average(category_wise_embeddings, axis=0)\n",
        "    centroids[key] = category_centroid[0]\n",
        "    # Comment above and comment out below to use flatten array instead averaging\n",
        "    # centroids[key] = np.array(category_centroid[0]).flatten()"
      ],
      "execution_count": null,
      "outputs": []
    },
    {
      "cell_type": "code",
      "metadata": {
        "id": "hrwvEiGTrNIg"
      },
      "source": [
        "keys = np.array(list(centroids.keys()))\n",
        "values = np.array(list(centroids.values()))"
      ],
      "execution_count": null,
      "outputs": []
    },
    {
      "cell_type": "code",
      "metadata": {
        "id": "mSaTjQYxjwpA"
      },
      "source": [
        "from sklearn.decomposition import PCA\n",
        "import altair as alt\n",
        "import pandas as pd\n",
        "\n",
        "# Dimension reduction and clustering libraries\n",
        "import umap\n",
        "import sklearn.cluster as cluster\n",
        "from sklearn.metrics import adjusted_rand_score, adjusted_mutual_info_score"
      ],
      "execution_count": null,
      "outputs": []
    },
    {
      "cell_type": "code",
      "metadata": {
        "id": "A4_x0EVI823a"
      },
      "source": [
        "clusterable_embedding = umap.UMAP(\n",
        "    n_neighbors=5,\n",
        "    min_dist=0.25,\n",
        "    n_components=2,\n",
        "    random_state=42,\n",
        ").fit_transform(values)\n",
        "\n",
        "df = pd.DataFrame(clusterable_embedding, columns = ['x','y'])\n",
        "df[\"key\"] = keys"
      ],
      "execution_count": null,
      "outputs": []
    },
    {
      "cell_type": "code",
      "metadata": {
        "colab": {
          "base_uri": "https://localhost:8080/",
          "height": 440
        },
        "id": "8Khm5ZAH9TIL",
        "outputId": "50da84f7-c8d8-4f87-c17e-eb51f88afafd"
      },
      "source": [
        "alt.Chart(df).mark_circle(size=60).encode(\n",
        "    x= 'x',\n",
        "    y= 'y',\n",
        "    color='key',\n",
        "    tooltip=['key']\n",
        ").interactive()"
      ],
      "execution_count": null,
      "outputs": [
        {
          "output_type": "execute_result",
          "data": {
            "text/html": [
              "\n",
              "<div id=\"altair-viz-1b43340fafc24a05828edd4a5c475825\"></div>\n",
              "<script type=\"text/javascript\">\n",
              "  (function(spec, embedOpt){\n",
              "    let outputDiv = document.currentScript.previousElementSibling;\n",
              "    if (outputDiv.id !== \"altair-viz-1b43340fafc24a05828edd4a5c475825\") {\n",
              "      outputDiv = document.getElementById(\"altair-viz-1b43340fafc24a05828edd4a5c475825\");\n",
              "    }\n",
              "    const paths = {\n",
              "      \"vega\": \"https://cdn.jsdelivr.net/npm//vega@5?noext\",\n",
              "      \"vega-lib\": \"https://cdn.jsdelivr.net/npm//vega-lib?noext\",\n",
              "      \"vega-lite\": \"https://cdn.jsdelivr.net/npm//vega-lite@4.8.1?noext\",\n",
              "      \"vega-embed\": \"https://cdn.jsdelivr.net/npm//vega-embed@6?noext\",\n",
              "    };\n",
              "\n",
              "    function loadScript(lib) {\n",
              "      return new Promise(function(resolve, reject) {\n",
              "        var s = document.createElement('script');\n",
              "        s.src = paths[lib];\n",
              "        s.async = true;\n",
              "        s.onload = () => resolve(paths[lib]);\n",
              "        s.onerror = () => reject(`Error loading script: ${paths[lib]}`);\n",
              "        document.getElementsByTagName(\"head\")[0].appendChild(s);\n",
              "      });\n",
              "    }\n",
              "\n",
              "    function showError(err) {\n",
              "      outputDiv.innerHTML = `<div class=\"error\" style=\"color:red;\">${err}</div>`;\n",
              "      throw err;\n",
              "    }\n",
              "\n",
              "    function displayChart(vegaEmbed) {\n",
              "      vegaEmbed(outputDiv, spec, embedOpt)\n",
              "        .catch(err => showError(`Javascript Error: ${err.message}<br>This usually means there's a typo in your chart specification. See the javascript console for the full traceback.`));\n",
              "    }\n",
              "\n",
              "    if(typeof define === \"function\" && define.amd) {\n",
              "      requirejs.config({paths});\n",
              "      require([\"vega-embed\"], displayChart, err => showError(`Error loading script: ${err.message}`));\n",
              "    } else if (typeof vegaEmbed === \"function\") {\n",
              "      displayChart(vegaEmbed);\n",
              "    } else {\n",
              "      loadScript(\"vega\")\n",
              "        .then(() => loadScript(\"vega-lite\"))\n",
              "        .then(() => loadScript(\"vega-embed\"))\n",
              "        .catch(showError)\n",
              "        .then(() => displayChart(vegaEmbed));\n",
              "    }\n",
              "  })({\"config\": {\"view\": {\"continuousWidth\": 400, \"continuousHeight\": 300}}, \"data\": {\"name\": \"data-08dbe8740589420685333ca0847016c1\"}, \"mark\": {\"type\": \"circle\", \"size\": 60}, \"encoding\": {\"color\": {\"type\": \"nominal\", \"field\": \"key\"}, \"tooltip\": [{\"type\": \"nominal\", \"field\": \"key\"}], \"x\": {\"type\": \"quantitative\", \"field\": \"x\"}, \"y\": {\"type\": \"quantitative\", \"field\": \"y\"}}, \"selection\": {\"selector001\": {\"type\": \"interval\", \"bind\": \"scales\", \"encodings\": [\"x\", \"y\"]}}, \"$schema\": \"https://vega.github.io/schema/vega-lite/v4.8.1.json\", \"datasets\": {\"data-08dbe8740589420685333ca0847016c1\": [{\"x\": 7.3216705322265625, \"y\": 6.636944770812988, \"key\": \"strawberry\"}, {\"x\": 8.61542797088623, \"y\": 2.3657400608062744, \"key\": \"syringe\"}, {\"x\": 10.708623886108398, \"y\": 10.364262580871582, \"key\": \"angel\"}, {\"x\": 10.889180183410645, \"y\": 7.439354419708252, \"key\": \"sink\"}, {\"x\": 13.76564884185791, \"y\": 4.802347660064697, \"key\": \"The Eiffel Tower\"}, {\"x\": 8.632463455200195, \"y\": 6.919783592224121, \"key\": \"pond\"}, {\"x\": 11.779102325439453, \"y\": 7.4570159912109375, \"key\": \"aircraft carrier\"}, {\"x\": 7.492766380310059, \"y\": 6.183738708496094, \"key\": \"apple\"}, {\"x\": 10.995048522949219, \"y\": 5.6269917488098145, \"key\": \"motorbike\"}, {\"x\": 5.769114017486572, \"y\": 5.543499946594238, \"key\": \"blackberry\"}, {\"x\": 5.097734451293945, \"y\": 7.193394660949707, \"key\": \"broccoli\"}, {\"x\": 8.063612937927246, \"y\": 4.48192024230957, \"key\": \"ice cream\"}, {\"x\": 11.868659019470215, \"y\": 4.20291805267334, \"key\": \"rainbow\"}, {\"x\": 11.031951904296875, \"y\": 6.554058074951172, \"key\": \"chandelier\"}, {\"x\": 11.091145515441895, \"y\": 1.1759217977523804, \"key\": \"bench\"}, {\"x\": 8.226066589355469, \"y\": 6.217573642730713, \"key\": \"circle\"}, {\"x\": 10.651199340820312, \"y\": 10.56216812133789, \"key\": \"crab\"}, {\"x\": 7.5638909339904785, \"y\": 6.348543167114258, \"key\": \"snowman\"}, {\"x\": 9.877876281738281, \"y\": 5.948139667510986, \"key\": \"fire hydrant\"}, {\"x\": 12.399459838867188, \"y\": -0.21348117291927338, \"key\": \"book\"}, {\"x\": 8.079031944274902, \"y\": 2.859818696975708, \"key\": \"spoon\"}, {\"x\": 12.285804748535156, \"y\": 4.08977746963501, \"key\": \"beach\"}, {\"x\": 7.968155860900879, \"y\": 9.287615776062012, \"key\": \"cup\"}, {\"x\": 8.670673370361328, \"y\": 7.208616256713867, \"key\": \"bandage\"}, {\"x\": 10.448083877563477, \"y\": 4.53574275970459, \"key\": \"trumpet\"}, {\"x\": 8.392256736755371, \"y\": 2.5368192195892334, \"key\": \"screwdriver\"}, {\"x\": 5.942989349365234, \"y\": 5.4613356590271, \"key\": \"camouflage\"}, {\"x\": 7.730027675628662, \"y\": 9.272643089294434, \"key\": \"bucket\"}, {\"x\": 9.784100532531738, \"y\": 11.886027336120605, \"key\": \"sheep\"}, {\"x\": 8.057354927062988, \"y\": 6.3482666015625, \"key\": \"potato\"}, {\"x\": 11.158185958862305, \"y\": 10.186800956726074, \"key\": \"mermaid\"}, {\"x\": 11.669442176818848, \"y\": 6.229944229125977, \"key\": \"campfire\"}, {\"x\": 8.200970649719238, \"y\": 4.791158199310303, \"key\": \"wine bottle\"}, {\"x\": 12.009761810302734, \"y\": 1.619644284248352, \"key\": \"jail\"}, {\"x\": 9.798382759094238, \"y\": 2.196575880050659, \"key\": \"rake\"}, {\"x\": 11.963482856750488, \"y\": 7.460733413696289, \"key\": \"speedboat\"}, {\"x\": 5.990875244140625, \"y\": 6.061285018920898, \"key\": \"cloud\"}, {\"x\": 8.691018104553223, \"y\": 4.771852016448975, \"key\": \"hourglass\"}, {\"x\": 7.524621963500977, \"y\": 6.443909645080566, \"key\": \"donut\"}, {\"x\": 10.943936347961426, \"y\": 10.644232749938965, \"key\": \"scorpion\"}, {\"x\": 11.882691383361816, \"y\": 7.6109442710876465, \"key\": \"sailboat\"}, {\"x\": 6.786708831787109, \"y\": 6.231625080108643, \"key\": \"clock\"}, {\"x\": 8.86454963684082, \"y\": 1.862180233001709, \"key\": \"crayon\"}, {\"x\": 10.671004295349121, \"y\": 1.6655818223953247, \"key\": \"rifle\"}, {\"x\": 11.892715454101562, \"y\": 5.594475746154785, \"key\": \"leaf\"}, {\"x\": 11.413405418395996, \"y\": 0.30855703353881836, \"key\": \"square\"}, {\"x\": 9.7446928024292, \"y\": 12.002250671386719, \"key\": \"horse\"}, {\"x\": 8.145435333251953, \"y\": 6.452337265014648, \"key\": \"peanut\"}, {\"x\": 13.030782699584961, \"y\": -0.3985994756221771, \"key\": \"washing machine\"}, {\"x\": 13.0535249710083, \"y\": 2.3343100547790527, \"key\": \"house\"}, {\"x\": 4.974656105041504, \"y\": 7.180854797363281, \"key\": \"tree\"}, {\"x\": 13.442595481872559, \"y\": 6.083959579467773, \"key\": \"hockey stick\"}, {\"x\": 13.508350372314453, \"y\": 4.76894474029541, \"key\": \"stairs\"}, {\"x\": 11.938386917114258, \"y\": 3.7939040660858154, \"key\": \"bridge\"}, {\"x\": 8.52552318572998, \"y\": 5.937587261199951, \"key\": \"octagon\"}, {\"x\": 12.731338500976562, \"y\": -0.2706913352012634, \"key\": \"map\"}, {\"x\": 9.476812362670898, \"y\": 11.97692584991455, \"key\": \"zebra\"}, {\"x\": 5.174496650695801, \"y\": 7.238779544830322, \"key\": \"flower\"}, {\"x\": 8.964612007141113, \"y\": 5.2020955085754395, \"key\": \"shorts\"}, {\"x\": 11.789469718933105, \"y\": 0.7896707057952881, \"key\": \"couch\"}, {\"x\": 8.32077407836914, \"y\": 2.341517686843872, \"key\": \"baseball bat\"}, {\"x\": 10.943134307861328, \"y\": 4.554623603820801, \"key\": \"saw\"}, {\"x\": 10.147170066833496, \"y\": 10.29820442199707, \"key\": \"spider\"}, {\"x\": 12.381457328796387, \"y\": 7.0721869468688965, \"key\": \"shoe\"}, {\"x\": 7.276327133178711, \"y\": 4.309962749481201, \"key\": \"light bulb\"}, {\"x\": 10.485488891601562, \"y\": 1.7979902029037476, \"key\": \"toothbrush\"}, {\"x\": 12.417440414428711, \"y\": 3.9690935611724854, \"key\": \"river\"}, {\"x\": 7.746596813201904, \"y\": 3.8188657760620117, \"key\": \"stop sign\"}, {\"x\": 7.971517086029053, \"y\": 5.689980983734131, \"key\": \"pear\"}, {\"x\": 10.964524269104004, \"y\": 9.49447250366211, \"key\": \"flamingo\"}, {\"x\": 8.286856651306152, \"y\": 5.096495628356934, \"key\": \"vase\"}, {\"x\": 5.80084753036499, \"y\": 5.538247585296631, \"key\": \"grapes\"}, {\"x\": 8.25645637512207, \"y\": 9.265870094299316, \"key\": \"coffee cup\"}, {\"x\": 13.603204727172852, \"y\": 5.968947887420654, \"key\": \"golf club\"}, {\"x\": 11.603538513183594, \"y\": 7.296999931335449, \"key\": \"flying saucer\"}, {\"x\": 12.118338584899902, \"y\": 5.428373336791992, \"key\": \"feather\"}, {\"x\": 11.054461479187012, \"y\": 0.7188227772712708, \"key\": \"keyboard\"}, {\"x\": 10.597002983093262, \"y\": 10.11890697479248, \"key\": \"penguin\"}, {\"x\": 6.27878475189209, \"y\": 6.780581951141357, \"key\": \"pizza\"}, {\"x\": 9.782434463500977, \"y\": 2.477908134460449, \"key\": \"carrot\"}, {\"x\": 6.940830707550049, \"y\": 4.733070373535156, \"key\": \"skull\"}, {\"x\": 13.140913963317871, \"y\": 0.4429090619087219, \"key\": \"remote control\"}, {\"x\": 11.248224258422852, \"y\": 0.34152987599372864, \"key\": \"pillow\"}, {\"x\": 6.712008953094482, \"y\": 6.379146575927734, \"key\": \"cookie\"}, {\"x\": 11.266342163085938, \"y\": 6.412790298461914, \"key\": \"yoga\"}, {\"x\": 12.928572654724121, \"y\": 6.13322114944458, \"key\": \"foot\"}, {\"x\": 9.620681762695312, \"y\": 10.876777648925781, \"key\": \"teddy-bear\"}, {\"x\": 11.192975997924805, \"y\": 1.4292491674423218, \"key\": \"chair\"}, {\"x\": 10.291150093078613, \"y\": 4.741127967834473, \"key\": \"megaphone\"}, {\"x\": 10.781264305114746, \"y\": 4.811254978179932, \"key\": \"clarinet\"}, {\"x\": 12.837364196777344, \"y\": 9.455329895019531, \"key\": \"whale\"}, {\"x\": 10.889904022216797, \"y\": 9.553120613098145, \"key\": \"parrot\"}, {\"x\": 9.6549072265625, \"y\": 10.5081205368042, \"key\": \"alarm clock\"}, {\"x\": 0.9466148018836975, \"y\": 6.2464141845703125, \"key\": \"ambulance\"}, {\"x\": 8.41606616973877, \"y\": 6.975369930267334, \"key\": \"steak\"}, {\"x\": 12.422150611877441, \"y\": 0.49754929542541504, \"key\": \"calendar\"}, {\"x\": 12.413650512695312, \"y\": 2.6793606281280518, \"key\": \"castle\"}, {\"x\": 6.0891804695129395, \"y\": 5.8856892585754395, \"key\": \"brain\"}, {\"x\": 11.122856140136719, \"y\": 9.227238655090332, \"key\": \"swan\"}, {\"x\": 7.611110210418701, \"y\": 3.5880770683288574, \"key\": \"popsicle\"}, {\"x\": 9.731887817382812, \"y\": 11.154561042785645, \"key\": \"pig\"}, {\"x\": 10.174399375915527, \"y\": 5.957691669464111, \"key\": \"cactus\"}, {\"x\": 8.73005485534668, \"y\": 1.5685001611709595, \"key\": \"lighter\"}, {\"x\": 9.533123970031738, \"y\": 10.992515563964844, \"key\": \"rabbit\"}, {\"x\": 11.363992691040039, \"y\": 6.1809821128845215, \"key\": \"garden\"}, {\"x\": 12.048425674438477, \"y\": 5.630386829376221, \"key\": \"pliers\"}, {\"x\": 10.656059265136719, \"y\": 5.290767192840576, \"key\": \"skateboard\"}, {\"x\": 7.340261459350586, \"y\": 4.422835350036621, \"key\": \"hot air balloon\"}, {\"x\": 9.392593383789062, \"y\": 3.4346721172332764, \"key\": \"nail\"}, {\"x\": 10.571605682373047, \"y\": 7.381336688995361, \"key\": \"birthday cake\"}, {\"x\": 12.969721794128418, \"y\": 2.178279399871826, \"key\": \"hospital\"}, {\"x\": 8.966959953308105, \"y\": 6.615967273712158, \"key\": \"bread\"}, {\"x\": 13.262213706970215, \"y\": 0.466077983379364, \"key\": \"traffic light\"}, {\"x\": 12.617243766784668, \"y\": 9.605792045593262, \"key\": \"crocodile\"}, {\"x\": 12.507919311523438, \"y\": -0.6345285177230835, \"key\": \"microwave\"}, {\"x\": 12.884021759033203, \"y\": 9.404398918151855, \"key\": \"fish\"}, {\"x\": 11.594806671142578, \"y\": 1.6439670324325562, \"key\": \"swing set\"}, {\"x\": 5.475625991821289, \"y\": 7.487723350524902, \"key\": \"windmill\"}, {\"x\": 6.078253746032715, \"y\": 5.330575942993164, \"key\": \"beard\"}, {\"x\": 8.79984188079834, \"y\": 8.602906227111816, \"key\": \"backpack\"}, {\"x\": 12.786757469177246, \"y\": 4.435165882110596, \"key\": \"squiggle\"}, {\"x\": 1.3846579790115356, \"y\": 5.7698564529418945, \"key\": \"bulldozer\"}, {\"x\": 0.9080632925033569, \"y\": 6.205121994018555, \"key\": \"school bus\"}, {\"x\": 13.02245807647705, \"y\": 2.3101556301116943, \"key\": \"barn\"}, {\"x\": 11.236710548400879, \"y\": 10.661641120910645, \"key\": \"squirrel\"}, {\"x\": 10.828278541564941, \"y\": 1.6248685121536255, \"key\": \"diving board\"}, {\"x\": 11.753954887390137, \"y\": 0.11968107521533966, \"key\": \"envelope\"}, {\"x\": 5.828583717346191, \"y\": 7.92610502243042, \"key\": \"star\"}, {\"x\": 13.070953369140625, \"y\": 5.7896409034729, \"key\": \"elbow\"}, {\"x\": 8.2654447555542, \"y\": 7.170105934143066, \"key\": \"paper clip\"}, {\"x\": 10.425517082214355, \"y\": 7.2729268074035645, \"key\": \"cake\"}, {\"x\": 7.714122295379639, \"y\": 9.187479019165039, \"key\": \"basket\"}, {\"x\": 12.30034351348877, \"y\": -0.06498122960329056, \"key\": \"dresser\"}, {\"x\": 9.747565269470215, \"y\": 6.3444504737854, \"key\": \"toilet\"}, {\"x\": 12.702573776245117, \"y\": -1.1420860290527344, \"key\": \"stove\"}, {\"x\": 12.42866039276123, \"y\": -0.8478595018386841, \"key\": \"television\"}, {\"x\": 9.67908000946045, \"y\": 10.976082801818848, \"key\": \"panda\"}, {\"x\": 10.891325950622559, \"y\": 9.616731643676758, \"key\": \"bird\"}, {\"x\": 10.500731468200684, \"y\": 6.452329635620117, \"key\": \"necklace\"}, {\"x\": 9.723562240600586, \"y\": 11.99582576751709, \"key\": \"cow\"}, {\"x\": 12.338595390319824, \"y\": 3.1757991313934326, \"key\": \"grass\"}, {\"x\": 9.296297073364258, \"y\": 6.259653568267822, \"key\": \"tooth\"}, {\"x\": 10.444087028503418, \"y\": 10.71225643157959, \"key\": \"bee\"}, {\"x\": 12.805875778198242, \"y\": 6.682196140289307, \"key\": \"sock\"}, {\"x\": 13.949063301086426, \"y\": 4.748410701751709, \"key\": \"tent\"}, {\"x\": 10.190569877624512, \"y\": 7.3554487228393555, \"key\": \"bathtub\"}, {\"x\": 8.111351013183594, \"y\": 7.119197845458984, \"key\": \"mouth\"}, {\"x\": 8.98238468170166, \"y\": 1.9354913234710693, \"key\": \"pencil\"}, {\"x\": 1.230226993560791, \"y\": 5.815934181213379, \"key\": \"truck\"}, {\"x\": 12.13623332977295, \"y\": 4.725208282470703, \"key\": \"animal migration\"}, {\"x\": 11.79487133026123, \"y\": 7.57224178314209, \"key\": \"cruise ship\"}, {\"x\": 7.910988807678223, \"y\": 9.106400489807129, \"key\": \"paint can\"}, {\"x\": 12.389772415161133, \"y\": 4.542339324951172, \"key\": \"moustache\"}, {\"x\": 13.441385269165039, \"y\": 5.806711673736572, \"key\": \"leg\"}, {\"x\": 9.950672149658203, \"y\": 10.835542678833008, \"key\": \"bear\"}, {\"x\": 12.869431495666504, \"y\": -1.1137127876281738, \"key\": \"stereo\"}, {\"x\": 9.31333065032959, \"y\": 6.990126132965088, \"key\": \"bottlecap\"}, {\"x\": 9.55345344543457, \"y\": 5.070300579071045, \"key\": \"t-shirt\"}, {\"x\": 8.84083080291748, \"y\": 5.07484245300293, \"key\": \"underwear\"}, {\"x\": 9.117852210998535, \"y\": 7.145780563354492, \"key\": \"hockey puck\"}, {\"x\": 9.941924095153809, \"y\": 11.519739151000977, \"key\": \"elephant\"}, {\"x\": 9.926461219787598, \"y\": 10.823066711425781, \"key\": \"frog\"}, {\"x\": 10.947482109069824, \"y\": 6.019989490509033, \"key\": \"wristwatch\"}, {\"x\": 7.772500514984131, \"y\": 4.236533164978027, \"key\": \"mushroom\"}, {\"x\": 8.70577621459961, \"y\": 4.112048625946045, \"key\": \"wine glass\"}, {\"x\": 11.115668296813965, \"y\": 10.559447288513184, \"key\": \"butterfly\"}, {\"x\": 12.699023246765137, \"y\": -0.08099687844514847, \"key\": \"passport\"}, {\"x\": 11.048954010009766, \"y\": 2.6317336559295654, \"key\": \"ladder\"}, {\"x\": 1.4126824140548706, \"y\": 5.522411823272705, \"key\": \"tractor\"}, {\"x\": 7.289214611053467, \"y\": 7.191937446594238, \"key\": \"baseball\"}, {\"x\": 12.133391380310059, \"y\": 2.87062668800354, \"key\": \"fence\"}, {\"x\": 11.666332244873047, \"y\": 7.404504299163818, \"key\": \"hat\"}, {\"x\": 8.326221466064453, \"y\": 7.315110206604004, \"key\": \"flip flops\"}, {\"x\": 9.659064292907715, \"y\": 11.361692428588867, \"key\": \"raccoon\"}, {\"x\": 11.621685981750488, \"y\": 5.957069396972656, \"key\": \"scissors\"}, {\"x\": 8.758381843566895, \"y\": 7.233675956726074, \"key\": \"sleeping bag\"}, {\"x\": 8.672819137573242, \"y\": 2.1601948738098145, \"key\": \"knife\"}, {\"x\": 7.65556526184082, \"y\": 3.8941526412963867, \"key\": \"microphone\"}, {\"x\": 12.03101634979248, \"y\": 3.3079023361206055, \"key\": \"stitches\"}, {\"x\": 6.722969055175781, \"y\": 5.286703109741211, \"key\": \"face\"}, {\"x\": 11.891419410705566, \"y\": 0.323493093252182, \"key\": \"door\"}, {\"x\": 11.568315505981445, \"y\": 7.1514973640441895, \"key\": \"helicopter\"}, {\"x\": 9.175049781799316, \"y\": 7.487583160400391, \"key\": \"hot dog\"}, {\"x\": 11.951560974121094, \"y\": -0.5163446664810181, \"key\": \"laptop\"}, {\"x\": 0.992304265499115, \"y\": 6.171258926391602, \"key\": \"bus\"}, {\"x\": 1.0852124691009521, \"y\": 5.626524448394775, \"key\": \"police car\"}, {\"x\": 9.064088821411133, \"y\": 3.8892128467559814, \"key\": \"mailbox\"}, {\"x\": 12.249429702758789, \"y\": 4.669040203094482, \"key\": \"snake\"}, {\"x\": 10.022953033447266, \"y\": 6.599490642547607, \"key\": \"house plant\"}, {\"x\": 8.132829666137695, \"y\": 4.1459550857543945, \"key\": \"umbrella\"}, {\"x\": 8.756739616394043, \"y\": 6.379225254058838, \"key\": \"helmet\"}, {\"x\": 12.321179389953613, \"y\": 0.9459182620048523, \"key\": \"spreadsheet\"}, {\"x\": 12.084158897399902, \"y\": 3.492368221282959, \"key\": \"The Great Wall of China\"}, {\"x\": 8.832586288452148, \"y\": 1.9673655033111572, \"key\": \"marker\"}, {\"x\": 7.460849761962891, \"y\": 7.023439884185791, \"key\": \"onion\"}, {\"x\": 13.240765571594238, \"y\": 0.722996711730957, \"key\": \"telephone\"}, {\"x\": 11.961216926574707, \"y\": 7.223280429840088, \"key\": \"submarine\"}, {\"x\": 10.776043891906738, \"y\": 4.079737186431885, \"key\": \"guitar\"}, {\"x\": 7.554356098175049, \"y\": 4.206994533538818, \"key\": \"tennis racquet\"}, {\"x\": 10.208505630493164, \"y\": 2.9246246814727783, \"key\": \"finger\"}, {\"x\": 12.79411792755127, \"y\": -1.106369137763977, \"key\": \"radio\"}, {\"x\": 13.011130332946777, \"y\": -0.014411565847694874, \"key\": \"The Mona Lisa\"}, {\"x\": 13.026263236999512, \"y\": -0.7809638977050781, \"key\": \"camera\"}, {\"x\": 12.014619827270508, \"y\": 4.599494457244873, \"key\": \"garden hose\"}, {\"x\": 10.7388916015625, \"y\": 4.021984577178955, \"key\": \"violin\"}, {\"x\": 11.632437705993652, \"y\": 4.694619178771973, \"key\": \"snail\"}, {\"x\": 10.106889724731445, \"y\": 10.721956253051758, \"key\": \"sea turtle\"}, {\"x\": 9.720194816589355, \"y\": 10.177665710449219, \"key\": \"sun\"}, {\"x\": 10.93421459197998, \"y\": 10.509420394897461, \"key\": \"mosquito\"}, {\"x\": 6.84320068359375, \"y\": 7.082547664642334, \"key\": \"basketball\"}, {\"x\": 10.375036239624023, \"y\": 4.6382551193237305, \"key\": \"bowtie\"}, {\"x\": 13.383344650268555, \"y\": 5.501900672912598, \"key\": \"knee\"}, {\"x\": 1.4925538301467896, \"y\": 5.559790134429932, \"key\": \"rollerskates\"}, {\"x\": 9.88497257232666, \"y\": 10.913359642028809, \"key\": \"monkey\"}, {\"x\": 9.549308776855469, \"y\": 11.76032543182373, \"key\": \"tiger\"}, {\"x\": 8.604619979858398, \"y\": 5.3316850662231445, \"key\": \"diamond\"}, {\"x\": 1.1361033916473389, \"y\": 6.253581523895264, \"key\": \"firetruck\"}, {\"x\": 9.719395637512207, \"y\": 5.199296474456787, \"key\": \"jacket\"}, {\"x\": 9.603411674499512, \"y\": 5.191208362579346, \"key\": \"sweater\"}, {\"x\": 9.008094787597656, \"y\": 5.290040493011475, \"key\": \"pants\"}, {\"x\": 11.907360076904297, \"y\": 1.1352477073669434, \"key\": \"piano\"}, {\"x\": 10.278653144836426, \"y\": 11.34506893157959, \"key\": \"ant\"}, {\"x\": 9.936007499694824, \"y\": 5.797982692718506, \"key\": \"lighthouse\"}, {\"x\": 1.296694040298462, \"y\": 5.945488929748535, \"key\": \"train\"}, {\"x\": 5.542515277862549, \"y\": 7.543907165527344, \"key\": \"ceiling fan\"}, {\"x\": 9.017509460449219, \"y\": 9.249496459960938, \"key\": \"teapot\"}, {\"x\": 9.134549140930176, \"y\": 3.895819664001465, \"key\": \"hammer\"}, {\"x\": 10.652274131774902, \"y\": 5.010433673858643, \"key\": \"cannon\"}, {\"x\": 12.613994598388672, \"y\": 7.315872669219971, \"key\": \"saxophone\"}, {\"x\": 7.6343584060668945, \"y\": 7.1923065185546875, \"key\": \"watermelon\"}, {\"x\": 12.37338924407959, \"y\": -0.6410844922065735, \"key\": \"picture frame\"}, {\"x\": 1.008089542388916, \"y\": 5.911769390106201, \"key\": \"van\"}, {\"x\": 9.110245704650879, \"y\": 1.906385064125061, \"key\": \"toothpaste\"}, {\"x\": 10.614562034606934, \"y\": 1.6785918474197388, \"key\": \"see saw\"}, {\"x\": 11.0818452835083, \"y\": 10.166753768920898, \"key\": \"kangaroo\"}, {\"x\": 9.800334930419922, \"y\": 10.198412895202637, \"key\": \"lion\"}, {\"x\": 12.007122039794922, \"y\": -0.5193902254104614, \"key\": \"computer\"}, {\"x\": 11.17074203491211, \"y\": 10.443195343017578, \"key\": \"bat\"}, {\"x\": 8.940386772155762, \"y\": 3.7122862339019775, \"key\": \"floor lamp\"}, {\"x\": 8.589898109436035, \"y\": 1.603280782699585, \"key\": \"lipstick\"}, {\"x\": 9.383546829223633, \"y\": 7.5312981605529785, \"key\": \"hamburger\"}, {\"x\": 8.257758140563965, \"y\": 6.608741760253906, \"key\": \"ear\"}, {\"x\": 5.153276443481445, \"y\": 7.345247268676758, \"key\": \"palm tree\"}, {\"x\": 9.758195877075195, \"y\": 11.907859802246094, \"key\": \"rhinoceros\"}, {\"x\": 10.975828170776367, \"y\": 5.307150840759277, \"key\": \"eyeglasses\"}, {\"x\": 10.788902282714844, \"y\": 4.656520366668701, \"key\": \"trombone\"}, {\"x\": 12.13116455078125, \"y\": -0.2462892383337021, \"key\": \"dishwasher\"}, {\"x\": 7.685563564300537, \"y\": 3.6084096431732178, \"key\": \"lollipop\"}, {\"x\": 9.274532318115234, \"y\": 7.538841247558594, \"key\": \"sandwich\"}, {\"x\": 12.748228073120117, \"y\": 9.50244426727295, \"key\": \"shark\"}, {\"x\": 9.031700134277344, \"y\": 4.907211780548096, \"key\": \"anvil\"}, {\"x\": 13.435602188110352, \"y\": 5.582083225250244, \"key\": \"line\"}, {\"x\": 9.923887252807617, \"y\": 6.189359664916992, \"key\": \"toe\"}, {\"x\": 8.689041137695312, \"y\": 1.5413832664489746, \"key\": \"candle\"}, {\"x\": 12.236542701721191, \"y\": 4.460097312927246, \"key\": \"roller coaster\"}, {\"x\": 12.534828186035156, \"y\": 4.111496925354004, \"key\": \"ocean\"}, {\"x\": 9.885835647583008, \"y\": 12.05553150177002, \"key\": \"camel\"}, {\"x\": 9.958091735839844, \"y\": 2.2143638134002686, \"key\": \"broom\"}, {\"x\": 12.538313865661621, \"y\": 9.466541290283203, \"key\": \"airplane\"}, {\"x\": 7.927768707275391, \"y\": 4.365170955657959, \"key\": \"parachute\"}, {\"x\": 12.677918434143066, \"y\": 7.1178083419799805, \"key\": \"snorkel\"}, {\"x\": 10.84568977355957, \"y\": 6.0849103927612305, \"key\": \"headphones\"}, {\"x\": 9.884064674377441, \"y\": 10.082659721374512, \"key\": \"mouse\"}, {\"x\": 12.290602684020996, \"y\": 4.277995586395264, \"key\": \"waterslide\"}, {\"x\": 6.4354777336120605, \"y\": 6.842749118804932, \"key\": \"wheel\"}, {\"x\": 7.2150044441223145, \"y\": 6.343904972076416, \"key\": \"blueberry\"}, {\"x\": 9.95346450805664, \"y\": 10.021100997924805, \"key\": \"hedgehog\"}, {\"x\": 10.661925315856934, \"y\": 3.9860758781433105, \"key\": \"cello\"}, {\"x\": 11.456086158752441, \"y\": 1.2322179079055786, \"key\": \"bed\"}, {\"x\": 9.263955116271973, \"y\": 6.911901950836182, \"key\": \"frying pan\"}, {\"x\": 11.10128116607666, \"y\": 5.5056257247924805, \"key\": \"binoculars\"}, {\"x\": 12.66539478302002, \"y\": 5.989284038543701, \"key\": \"arm\"}, {\"x\": 11.03908920288086, \"y\": 5.513978958129883, \"key\": \"bicycle\"}, {\"x\": 12.553802490234375, \"y\": -0.43840229511260986, \"key\": \"fireplace\"}, {\"x\": 12.239228248596191, \"y\": 2.8704681396484375, \"key\": \"crown\"}, {\"x\": 13.90434455871582, \"y\": 4.782042026519775, \"key\": \"triangle\"}, {\"x\": 9.138711929321289, \"y\": 3.741595506668091, \"key\": \"axe\"}, {\"x\": 8.239067077636719, \"y\": 6.961857795715332, \"key\": \"eye\"}, {\"x\": 9.11474895477295, \"y\": 3.6356639862060547, \"key\": \"streetlight\"}, {\"x\": 9.452285766601562, \"y\": 6.953311920166016, \"key\": \"drums\"}, {\"x\": 5.784112453460693, \"y\": 7.263791561126709, \"key\": \"fan\"}, {\"x\": 13.037651062011719, \"y\": 0.07069564610719681, \"key\": \"power outlet\"}, {\"x\": 8.38106918334961, \"y\": 6.410572052001953, \"key\": \"moon\"}, {\"x\": 5.614842414855957, \"y\": 5.26799201965332, \"key\": \"tornado\"}, {\"x\": 9.823787689208984, \"y\": 2.4027516841888428, \"key\": \"fork\"}, {\"x\": 5.835121154785156, \"y\": 6.114423751831055, \"key\": \"bush\"}, {\"x\": 6.5434889793396, \"y\": 6.66770076751709, \"key\": \"soccer ball\"}, {\"x\": 9.897602081298828, \"y\": 6.0721755027771, \"key\": \"lantern\"}, {\"x\": 13.336915016174316, \"y\": 4.539122581481934, \"key\": \"zigzag\"}, {\"x\": 9.857718467712402, \"y\": 2.414843797683716, \"key\": \"asparagus\"}, {\"x\": 10.971949577331543, \"y\": 9.411884307861328, \"key\": \"duck\"}, {\"x\": 7.37353515625, \"y\": 6.663277626037598, \"key\": \"pineapple\"}, {\"x\": 6.747000217437744, \"y\": 5.4833478927612305, \"key\": \"smiley face\"}, {\"x\": 10.97512435913086, \"y\": 5.225718975067139, \"key\": \"belt\"}, {\"x\": 12.372557640075684, \"y\": -0.03612978756427765, \"key\": \"postcard\"}, {\"x\": 10.476776123046875, \"y\": 2.6161882877349854, \"key\": \"skyscraper\"}, {\"x\": 7.554163455963135, \"y\": 7.1493821144104, \"key\": \"harp\"}, {\"x\": 10.730679512023926, \"y\": 4.876333236694336, \"key\": \"dumbbell\"}, {\"x\": 13.791247367858887, \"y\": 4.665507793426514, \"key\": \"mountain\"}, {\"x\": 11.707975387573242, \"y\": 4.430832862854004, \"key\": \"boomerang\"}, {\"x\": 13.279504776000977, \"y\": 4.736812114715576, \"key\": \"lightning\"}, {\"x\": 5.634157180786133, \"y\": 5.300221920013428, \"key\": \"hurricane\"}, {\"x\": 10.224416732788086, \"y\": 6.043764591217041, \"key\": \"hand\"}, {\"x\": 12.978479385375977, \"y\": 0.606673002243042, \"key\": \"cell phone\"}, {\"x\": 9.826311111450195, \"y\": 2.472290277481079, \"key\": \"matches\"}, {\"x\": 12.69790267944336, \"y\": 9.490374565124512, \"key\": \"dolphin\"}, {\"x\": 12.556635856628418, \"y\": 5.455521583557129, \"key\": \"string bean\"}, {\"x\": 5.8338494300842285, \"y\": 5.618040084838867, \"key\": \"peas\"}, {\"x\": 11.920259475708008, \"y\": -0.23610691726207733, \"key\": \"cooler\"}, {\"x\": 8.638182640075684, \"y\": 5.801469326019287, \"key\": \"hexagon\"}, {\"x\": 11.105226516723633, \"y\": 9.85137939453125, \"key\": \"giraffe\"}, {\"x\": 5.6791253089904785, \"y\": 7.78814697265625, \"key\": \"snowflake\"}, {\"x\": 11.595649719238281, \"y\": -0.04882064089179039, \"key\": \"suitcase\"}, {\"x\": 9.542744636535645, \"y\": 11.479789733886719, \"key\": \"cat\"}, {\"x\": 11.308916091918945, \"y\": 1.40723717212677, \"key\": \"table\"}, {\"x\": 10.87939167022705, \"y\": 10.43930435180664, \"key\": \"lobster\"}, {\"x\": 12.751462936401367, \"y\": 0.4256303608417511, \"key\": \"calculator\"}, {\"x\": 6.848717212677002, \"y\": 6.142378330230713, \"key\": \"bracelet\"}, {\"x\": 1.4007391929626465, \"y\": 5.503869533538818, \"key\": \"pickup truck\"}, {\"x\": 10.447367668151855, \"y\": 10.51849365234375, \"key\": \"octopus\"}, {\"x\": 11.131223678588867, \"y\": 10.322138786315918, \"key\": \"dragon\"}, {\"x\": 8.609393119812012, \"y\": 2.382174253463745, \"key\": \"sword\"}, {\"x\": 12.628887176513672, \"y\": 5.703124046325684, \"key\": \"canoe\"}, {\"x\": 10.651058197021484, \"y\": 4.459181785583496, \"key\": \"key\"}, {\"x\": 8.070079803466797, \"y\": 9.184447288513184, \"key\": \"mug\"}, {\"x\": 6.540410041809082, \"y\": 5.229747772216797, \"key\": \"goatee\"}, {\"x\": 6.761758804321289, \"y\": 6.448507308959961, \"key\": \"compass\"}, {\"x\": 10.219094276428223, \"y\": 7.327132701873779, \"key\": \"hot tub\"}, {\"x\": 10.684541702270508, \"y\": 0.9250114560127258, \"key\": \"eraser\"}, {\"x\": 10.837163925170898, \"y\": 6.385501384735107, \"key\": \"stethoscope\"}, {\"x\": 13.354849815368652, \"y\": 5.651673316955566, \"key\": \"nose\"}, {\"x\": 11.98133659362793, \"y\": 4.965021133422852, \"key\": \"rain\"}, {\"x\": 10.088301658630371, \"y\": 5.262168884277344, \"key\": \"flashlight\"}, {\"x\": 10.04588508605957, \"y\": 10.674214363098145, \"key\": \"owl\"}, {\"x\": 9.539539337158203, \"y\": 7.3198065757751465, \"key\": \"pool\"}, {\"x\": 7.615836143493652, \"y\": 9.261811256408691, \"key\": \"purse\"}, {\"x\": 9.862075805664062, \"y\": 11.62627124786377, \"key\": \"dog\"}, {\"x\": 12.759040832519531, \"y\": 5.648379325866699, \"key\": \"banana\"}, {\"x\": 8.394972801208496, \"y\": 2.7312214374542236, \"key\": \"shovel\"}, {\"x\": 12.91748046875, \"y\": 2.3304364681243896, \"key\": \"church\"}, {\"x\": 9.85143756866455, \"y\": 2.161769390106201, \"key\": \"paintbrush\"}, {\"x\": 12.361116409301758, \"y\": -0.6860851049423218, \"key\": \"oven\"}, {\"x\": 1.2309134006500244, \"y\": 5.54764461517334, \"key\": \"car\"}, {\"x\": 9.458723068237305, \"y\": 4.576292991638184, \"key\": \"drill\"}, {\"x\": 11.769062042236328, \"y\": -0.2321310043334961, \"key\": \"toaster\"}]}}, {\"mode\": \"vega-lite\"});\n",
              "</script>"
            ],
            "text/plain": [
              "alt.Chart(...)"
            ]
          },
          "metadata": {
            "tags": []
          },
          "execution_count": 7
        }
      ]
    },
    {
      "cell_type": "code",
      "metadata": {
        "id": "nzUFPjnKcSVF"
      },
      "source": [
        "embed_df = pd.DataFrame(values)\n",
        "compression_opts = dict(method='zip',\n",
        "                        archive_name='out.csv')  \n",
        "embed_df.to_csv('cont-out.zip', index=False,\n",
        "          compression=compression_opts)"
      ],
      "execution_count": null,
      "outputs": []
    },
    {
      "cell_type": "markdown",
      "metadata": {
        "id": "3Pvd57Ha7YEs"
      },
      "source": [
        "Now, read the sketchformer tok-dict preprocessed files embeddings."
      ]
    },
    {
      "cell_type": "code",
      "metadata": {
        "id": "TlkesTFkcfWg"
      },
      "source": [
        "reference_dict = dict()\n",
        "centroids = dict()\n",
        "directory = \"./deep-sketch/data-qd/tok_dict/\"\n",
        "filename = \"QD_150_samples_embeddings_cont.npz\"\n",
        "\n",
        "global reference_dict\n",
        "for filename in os.listdir(directory):\n",
        "    if filename.endswith(\".npz\"):\n",
        "        file_name = filename\n",
        "        embeddings = np.load(directory + file_name, allow_pickle=True, encoding=\"latin1\")  # can be optimized with\n",
        "        for embedding in embeddings[\"embeddings\"]:\n",
        "            embed_vector = embedding[0]\n",
        "            key_id = embedding[1]\n",
        "            class_name_raw = embedding[2]\n",
        "            class_name = class_name_raw.split(str(key_id))[0]\n",
        "            if class_name in reference_dict.keys():\n",
        "                current_list = reference_dict[class_name]\n",
        "                current_list[0].append(key_id)\n",
        "                current_list[1].append(embed_vector)\n",
        "                reference_dict[class_name] = current_list\n",
        "            else:\n",
        "                reference_dict[class_name] = [[key_id], [embed_vector]]   # This is the structure of ref_dict.\n",
        "\n",
        "for key in reference_dict.keys():\n",
        "    category_wise_embeddings = reference_dict[key][1]\n",
        "    category_centroid = np.average(category_wise_embeddings, axis=0)\n",
        "    centroids[key] = category_centroid[0]      # {class_name: centroid vector, ... }"
      ],
      "execution_count": null,
      "outputs": []
    },
    {
      "cell_type": "code",
      "metadata": {
        "id": "qXK_-OmS80Si"
      },
      "source": [
        "keys = np.array(list(centroids.keys()))\n",
        "values = np.array(list(centroids.values()))"
      ],
      "execution_count": null,
      "outputs": []
    },
    {
      "cell_type": "code",
      "metadata": {
        "id": "7OBpCS9qF_oB"
      },
      "source": [
        "clusterable_embedding = umap.UMAP(\n",
        "    n_neighbors=15,\n",
        "    min_dist=0.25,\n",
        "    n_components=2,\n",
        "    random_state=42,\n",
        ").fit_transform(values)\n",
        "\n",
        "df = pd.DataFrame(clusterable_embedding, columns = ['x','y'])\n",
        "df[\"key\"] = keys"
      ],
      "execution_count": null,
      "outputs": []
    },
    {
      "cell_type": "code",
      "metadata": {
        "colab": {
          "base_uri": "https://localhost:8080/",
          "height": 440
        },
        "id": "qEoAnlMXGCPn",
        "outputId": "19d49850-13cd-45d2-a0b8-defc3eaff837"
      },
      "source": [
        "alt.Chart(df).mark_circle(size=60).encode(\n",
        "    x= 'x',\n",
        "    y= 'y',\n",
        "    color='key',\n",
        "    tooltip=['key']\n",
        ").interactive()"
      ],
      "execution_count": null,
      "outputs": [
        {
          "output_type": "execute_result",
          "data": {
            "text/html": [
              "\n",
              "<div id=\"altair-viz-db0af69590b44b698694dc45f5e51c42\"></div>\n",
              "<script type=\"text/javascript\">\n",
              "  (function(spec, embedOpt){\n",
              "    let outputDiv = document.currentScript.previousElementSibling;\n",
              "    if (outputDiv.id !== \"altair-viz-db0af69590b44b698694dc45f5e51c42\") {\n",
              "      outputDiv = document.getElementById(\"altair-viz-db0af69590b44b698694dc45f5e51c42\");\n",
              "    }\n",
              "    const paths = {\n",
              "      \"vega\": \"https://cdn.jsdelivr.net/npm//vega@5?noext\",\n",
              "      \"vega-lib\": \"https://cdn.jsdelivr.net/npm//vega-lib?noext\",\n",
              "      \"vega-lite\": \"https://cdn.jsdelivr.net/npm//vega-lite@4.8.1?noext\",\n",
              "      \"vega-embed\": \"https://cdn.jsdelivr.net/npm//vega-embed@6?noext\",\n",
              "    };\n",
              "\n",
              "    function loadScript(lib) {\n",
              "      return new Promise(function(resolve, reject) {\n",
              "        var s = document.createElement('script');\n",
              "        s.src = paths[lib];\n",
              "        s.async = true;\n",
              "        s.onload = () => resolve(paths[lib]);\n",
              "        s.onerror = () => reject(`Error loading script: ${paths[lib]}`);\n",
              "        document.getElementsByTagName(\"head\")[0].appendChild(s);\n",
              "      });\n",
              "    }\n",
              "\n",
              "    function showError(err) {\n",
              "      outputDiv.innerHTML = `<div class=\"error\" style=\"color:red;\">${err}</div>`;\n",
              "      throw err;\n",
              "    }\n",
              "\n",
              "    function displayChart(vegaEmbed) {\n",
              "      vegaEmbed(outputDiv, spec, embedOpt)\n",
              "        .catch(err => showError(`Javascript Error: ${err.message}<br>This usually means there's a typo in your chart specification. See the javascript console for the full traceback.`));\n",
              "    }\n",
              "\n",
              "    if(typeof define === \"function\" && define.amd) {\n",
              "      requirejs.config({paths});\n",
              "      require([\"vega-embed\"], displayChart, err => showError(`Error loading script: ${err.message}`));\n",
              "    } else if (typeof vegaEmbed === \"function\") {\n",
              "      displayChart(vegaEmbed);\n",
              "    } else {\n",
              "      loadScript(\"vega\")\n",
              "        .then(() => loadScript(\"vega-lite\"))\n",
              "        .then(() => loadScript(\"vega-embed\"))\n",
              "        .catch(showError)\n",
              "        .then(() => displayChart(vegaEmbed));\n",
              "    }\n",
              "  })({\"config\": {\"view\": {\"continuousWidth\": 400, \"continuousHeight\": 300}}, \"data\": {\"name\": \"data-37ddf7753051fafbd6579071aada0b51\"}, \"mark\": {\"type\": \"circle\", \"size\": 60}, \"encoding\": {\"color\": {\"type\": \"nominal\", \"field\": \"key\"}, \"tooltip\": [{\"type\": \"nominal\", \"field\": \"key\"}], \"x\": {\"type\": \"quantitative\", \"field\": \"x\"}, \"y\": {\"type\": \"quantitative\", \"field\": \"y\"}}, \"selection\": {\"selector002\": {\"type\": \"interval\", \"bind\": \"scales\", \"encodings\": [\"x\", \"y\"]}}, \"$schema\": \"https://vega.github.io/schema/vega-lite/v4.8.1.json\", \"datasets\": {\"data-37ddf7753051fafbd6579071aada0b51\": [{\"x\": 5.498655319213867, \"y\": 3.2599446773529053, \"key\": \"The Great Wall of China\"}, {\"x\": 9.49819564819336, \"y\": 3.2803828716278076, \"key\": \"lighter\"}, {\"x\": 5.568109512329102, \"y\": 4.130991458892822, \"key\": \"clarinet\"}, {\"x\": 3.055466890335083, \"y\": 1.452874779701233, \"key\": \"picture frame\"}, {\"x\": 2.836677312850952, \"y\": 1.846441626548767, \"key\": \"camera\"}, {\"x\": 4.117379188537598, \"y\": 6.450390338897705, \"key\": \"helicopter\"}, {\"x\": 3.2923808097839355, \"y\": 1.8918375968933105, \"key\": \"power outlet\"}, {\"x\": 6.525679588317871, \"y\": 3.5946297645568848, \"key\": \"zigzag\"}, {\"x\": 4.08305025100708, \"y\": 4.934390544891357, \"key\": \"hamburger\"}, {\"x\": 4.656500339508057, \"y\": 4.390406608581543, \"key\": \"dumbbell\"}, {\"x\": 6.5607500076293945, \"y\": 6.477159023284912, \"key\": \"hurricane\"}, {\"x\": 4.919444561004639, \"y\": 8.41844654083252, \"key\": \"crab\"}, {\"x\": 5.811841011047363, \"y\": 8.537466049194336, \"key\": \"teddy-bear\"}, {\"x\": 4.916916370391846, \"y\": 3.0094683170318604, \"key\": \"castle\"}, {\"x\": 5.073276996612549, \"y\": 6.352827072143555, \"key\": \"baseball\"}, {\"x\": 7.960799694061279, \"y\": 3.5571272373199463, \"key\": \"toothpaste\"}, {\"x\": 3.3954081535339355, \"y\": 3.24088978767395, \"key\": \"bucket\"}, {\"x\": 5.093349456787109, \"y\": 8.116384506225586, \"key\": \"spider\"}, {\"x\": 0.5347939133644104, \"y\": 3.891794204711914, \"key\": \"ambulance\"}, {\"x\": 3.6807124614715576, \"y\": 6.654144763946533, \"key\": \"airplane\"}, {\"x\": 8.269012451171875, \"y\": 3.226449489593506, \"key\": \"matches\"}, {\"x\": 3.3503549098968506, \"y\": 1.4302003383636475, \"key\": \"laptop\"}, {\"x\": 5.901031494140625, \"y\": 8.373247146606445, \"key\": \"hedgehog\"}, {\"x\": 7.185055732727051, \"y\": 4.879012584686279, \"key\": \"pliers\"}, {\"x\": 5.371405601501465, \"y\": 1.9773218631744385, \"key\": \"keyboard\"}, {\"x\": 6.627931594848633, \"y\": 3.2499852180480957, \"key\": \"mountain\"}, {\"x\": 5.769371509552002, \"y\": 7.979776859283447, \"key\": \"alarm clock\"}, {\"x\": 5.132213115692139, \"y\": 4.371593475341797, \"key\": \"trombone\"}, {\"x\": 3.1232643127441406, \"y\": 1.7201147079467773, \"key\": \"oven\"}, {\"x\": 5.491473197937012, \"y\": 2.2509913444519043, \"key\": \"bench\"}, {\"x\": 5.310070991516113, \"y\": 7.2032647132873535, \"key\": \"snowman\"}, {\"x\": 5.314800262451172, \"y\": 5.045022487640381, \"key\": \"wristwatch\"}, {\"x\": 5.254791736602783, \"y\": 6.6239471435546875, \"key\": \"compass\"}, {\"x\": 7.170351505279541, \"y\": 1.6396868228912354, \"key\": \"sweater\"}, {\"x\": 8.815241813659668, \"y\": 2.483992576599121, \"key\": \"hot air balloon\"}, {\"x\": 5.764518737792969, \"y\": 7.132643699645996, \"key\": \"smiley face\"}, {\"x\": 4.739964485168457, \"y\": 5.133174896240234, \"key\": \"bandage\"}, {\"x\": 7.1454758644104, \"y\": 5.407619953155518, \"key\": \"chandelier\"}, {\"x\": 7.113361835479736, \"y\": 3.677503824234009, \"key\": \"elbow\"}, {\"x\": 4.322360992431641, \"y\": 1.7649238109588623, \"key\": \"door\"}, {\"x\": 5.390981674194336, \"y\": 4.830738544464111, \"key\": \"violin\"}, {\"x\": 6.825568199157715, \"y\": 2.106334924697876, \"key\": \"pants\"}, {\"x\": 5.738722324371338, \"y\": 9.019401550292969, \"key\": \"rabbit\"}, {\"x\": 6.3546247482299805, \"y\": 4.0034260749816895, \"key\": \"squiggle\"}, {\"x\": 5.749621391296387, \"y\": 2.4186360836029053, \"key\": \"chair\"}, {\"x\": 3.170335292816162, \"y\": 1.431732416152954, \"key\": \"microwave\"}, {\"x\": 9.366847038269043, \"y\": 3.5663013458251953, \"key\": \"lipstick\"}, {\"x\": 4.697579383850098, \"y\": 2.5375421047210693, \"key\": \"piano\"}, {\"x\": 8.203462600708008, \"y\": 5.954843044281006, \"key\": \"tree\"}, {\"x\": 0.9410848617553711, \"y\": 3.892780303955078, \"key\": \"rollerskates\"}, {\"x\": 5.782669544219971, \"y\": 9.067716598510742, \"key\": \"raccoon\"}, {\"x\": 7.595167636871338, \"y\": 3.6576333045959473, \"key\": \"golf club\"}, {\"x\": 8.00383186340332, \"y\": 5.979798316955566, \"key\": \"flower\"}, {\"x\": 6.228755950927734, \"y\": 7.454554557800293, \"key\": \"beard\"}, {\"x\": 6.036710262298584, \"y\": 4.45325231552124, \"key\": \"snake\"}, {\"x\": 5.529821872711182, \"y\": 9.470995903015137, \"key\": \"rhinoceros\"}, {\"x\": 5.547537326812744, \"y\": 6.81898832321167, \"key\": \"soccer ball\"}, {\"x\": 6.185377597808838, \"y\": 7.365870475769043, \"key\": \"goatee\"}, {\"x\": 7.259494781494141, \"y\": 3.7694270610809326, \"key\": \"sock\"}, {\"x\": 4.910057544708252, \"y\": 6.011137962341309, \"key\": \"watermelon\"}, {\"x\": 6.182489395141602, \"y\": 8.157176971435547, \"key\": \"lion\"}, {\"x\": 6.588156700134277, \"y\": 2.9337809085845947, \"key\": \"tent\"}, {\"x\": 3.416250467300415, \"y\": 1.640649437904358, \"key\": \"dishwasher\"}, {\"x\": 6.376872539520264, \"y\": 3.110085964202881, \"key\": \"stairs\"}, {\"x\": 9.035061836242676, \"y\": 2.3773608207702637, \"key\": \"tennis racquet\"}, {\"x\": 6.1123247146606445, \"y\": 3.2851572036743164, \"key\": \"stitches\"}, {\"x\": 5.1527180671691895, \"y\": 8.118830680847168, \"key\": \"octopus\"}, {\"x\": 8.654399871826172, \"y\": 2.3185601234436035, \"key\": \"microphone\"}, {\"x\": 5.744606018066406, \"y\": 6.902029991149902, \"key\": \"cookie\"}, {\"x\": 8.21558952331543, \"y\": 2.3442764282226562, \"key\": \"wine glass\"}, {\"x\": 5.966948986053467, \"y\": 6.275885581970215, \"key\": \"strawberry\"}, {\"x\": 3.9504942893981934, \"y\": 2.0713489055633545, \"key\": \"traffic light\"}, {\"x\": 3.7954282760620117, \"y\": 7.011525630950928, \"key\": \"dolphin\"}, {\"x\": 6.121345520019531, \"y\": 4.09874963760376, \"key\": \"beach\"}, {\"x\": 4.326221942901611, \"y\": 9.256457328796387, \"key\": \"duck\"}, {\"x\": 4.370879650115967, \"y\": 9.077605247497559, \"key\": \"parrot\"}, {\"x\": 4.941452980041504, \"y\": 2.5016257762908936, \"key\": \"jail\"}, {\"x\": 8.997674942016602, \"y\": 3.626736640930176, \"key\": \"syringe\"}, {\"x\": 4.620296001434326, \"y\": 3.8392584323883057, \"key\": \"snorkel\"}, {\"x\": 7.2008137702941895, \"y\": 1.7719224691390991, \"key\": \"t-shirt\"}, {\"x\": 0.8913748860359192, \"y\": 4.029838562011719, \"key\": \"car\"}, {\"x\": 3.2433764934539795, \"y\": 3.4662768840789795, \"key\": \"mug\"}, {\"x\": 4.04935884475708, \"y\": 5.253262996673584, \"key\": \"hot dog\"}, {\"x\": 0.6032711267471313, \"y\": 3.7819302082061768, \"key\": \"school bus\"}, {\"x\": 6.094289302825928, \"y\": 8.454520225524902, \"key\": \"sheep\"}, {\"x\": 8.045770645141602, \"y\": 2.14785099029541, \"key\": \"mailbox\"}, {\"x\": 8.105210304260254, \"y\": 2.754034996032715, \"key\": \"nail\"}, {\"x\": 6.867772102355957, \"y\": 4.428486347198486, \"key\": \"banana\"}, {\"x\": 3.6755614280700684, \"y\": 4.159898281097412, \"key\": \"backpack\"}, {\"x\": 7.075331211090088, \"y\": 4.980447292327881, \"key\": \"star\"}, {\"x\": 7.143515110015869, \"y\": 2.909360647201538, \"key\": \"skyscraper\"}, {\"x\": 6.952229022979736, \"y\": 3.30104660987854, \"key\": \"line\"}, {\"x\": 4.871928691864014, \"y\": 8.703797340393066, \"key\": \"scorpion\"}, {\"x\": 7.35452127456665, \"y\": 4.381974697113037, \"key\": \"toe\"}, {\"x\": 5.592796802520752, \"y\": 4.98447322845459, \"key\": \"vase\"}, {\"x\": 6.034775257110596, \"y\": 6.628334045410156, \"key\": \"bracelet\"}, {\"x\": 7.050769329071045, \"y\": 6.210747718811035, \"key\": \"campfire\"}, {\"x\": 3.9538018703460693, \"y\": 2.6062369346618652, \"key\": \"hospital\"}, {\"x\": 6.728249549865723, \"y\": 3.424143075942993, \"key\": \"The Eiffel Tower\"}, {\"x\": 7.568177223205566, \"y\": 3.292691707611084, \"key\": \"finger\"}, {\"x\": 7.417299747467041, \"y\": 2.2006418704986572, \"key\": \"fire hydrant\"}, {\"x\": 5.751335620880127, \"y\": 8.310882568359375, \"key\": \"owl\"}, {\"x\": 6.9964399337768555, \"y\": 3.405238628387451, \"key\": \"knee\"}, {\"x\": 8.611777305603027, \"y\": 3.6378324031829834, \"key\": \"pencil\"}, {\"x\": 5.084108829498291, \"y\": 4.453947067260742, \"key\": \"key\"}, {\"x\": 4.6500654220581055, \"y\": 8.476241111755371, \"key\": \"butterfly\"}, {\"x\": 3.6538116931915283, \"y\": 1.6937751770019531, \"key\": \"book\"}, {\"x\": 5.792990207672119, \"y\": 3.2001583576202393, \"key\": \"bridge\"}, {\"x\": 4.709022521972656, \"y\": 5.686717987060547, \"key\": \"eye\"}, {\"x\": 4.706382751464844, \"y\": 4.9751715660095215, \"key\": \"sleeping bag\"}, {\"x\": 4.069282054901123, \"y\": 3.6952154636383057, \"key\": \"house plant\"}, {\"x\": 4.11957311630249, \"y\": 5.691891193389893, \"key\": \"flying saucer\"}, {\"x\": 7.363597393035889, \"y\": 1.9474201202392578, \"key\": \"drill\"}, {\"x\": 0.5898910164833069, \"y\": 3.8888533115386963, \"key\": \"firetruck\"}, {\"x\": 5.763609409332275, \"y\": 4.712552547454834, \"key\": \"snail\"}, {\"x\": 5.398060321807861, \"y\": 3.1385011672973633, \"key\": \"fence\"}, {\"x\": 4.087587356567383, \"y\": 4.929817199707031, \"key\": \"pool\"}, {\"x\": 6.933321952819824, \"y\": 5.761370658874512, \"key\": \"yoga\"}, {\"x\": 9.07010555267334, \"y\": 3.4396402835845947, \"key\": \"screwdriver\"}, {\"x\": 5.650209426879883, \"y\": 2.4284234046936035, \"key\": \"swing set\"}, {\"x\": 8.218396186828613, \"y\": 3.727529764175415, \"key\": \"broom\"}, {\"x\": 7.687043190002441, \"y\": 4.244344711303711, \"key\": \"feather\"}, {\"x\": 3.5833699703216553, \"y\": 5.620700359344482, \"key\": \"aircraft carrier\"}, {\"x\": 8.667755126953125, \"y\": 3.21479868888855, \"key\": \"spoon\"}, {\"x\": 3.6396164894104004, \"y\": 1.4332513809204102, \"key\": \"postcard\"}, {\"x\": 4.707466125488281, \"y\": 8.57802963256836, \"key\": \"lobster\"}, {\"x\": 5.036344528198242, \"y\": 5.0647406578063965, \"key\": \"frying pan\"}, {\"x\": 1.0094631910324097, \"y\": 3.9194977283477783, \"key\": \"bulldozer\"}, {\"x\": 4.227197647094727, \"y\": 9.287663459777832, \"key\": \"swan\"}, {\"x\": 3.9070322513580322, \"y\": 7.021973609924316, \"key\": \"whale\"}, {\"x\": 6.600038051605225, \"y\": 6.477318286895752, \"key\": \"tornado\"}, {\"x\": 5.967495441436768, \"y\": 3.535867691040039, \"key\": \"grass\"}, {\"x\": 8.859289169311523, \"y\": 2.3135643005371094, \"key\": \"parachute\"}, {\"x\": 8.73193645477295, \"y\": 2.127424716949463, \"key\": \"mushroom\"}, {\"x\": 6.281599998474121, \"y\": 4.235629558563232, \"key\": \"moustache\"}, {\"x\": 7.068498134613037, \"y\": 4.055320739746094, \"key\": \"string bean\"}, {\"x\": 4.717862606048584, \"y\": 8.953429222106934, \"key\": \"penguin\"}, {\"x\": 5.338020324707031, \"y\": 6.112216472625732, \"key\": \"onion\"}, {\"x\": 8.332341194152832, \"y\": 3.6016111373901367, \"key\": \"fork\"}, {\"x\": 0.6239102482795715, \"y\": 3.670513153076172, \"key\": \"van\"}, {\"x\": 1.956763505935669, \"y\": 4.113279819488525, \"key\": \"bicycle\"}, {\"x\": 8.115679740905762, \"y\": 4.201144218444824, \"key\": \"carrot\"}, {\"x\": 8.898172378540039, \"y\": 2.2302637100219727, \"key\": \"stop sign\"}, {\"x\": 3.5517122745513916, \"y\": 3.6134564876556396, \"key\": \"basket\"}, {\"x\": 5.707540512084961, \"y\": 9.352618217468262, \"key\": \"zebra\"}, {\"x\": 8.658811569213867, \"y\": 2.3111250400543213, \"key\": \"lollipop\"}, {\"x\": 7.498043060302734, \"y\": 4.559719085693359, \"key\": \"hand\"}, {\"x\": 2.9213976860046387, \"y\": 1.5942062139511108, \"key\": \"television\"}, {\"x\": 4.835002422332764, \"y\": 9.109326362609863, \"key\": \"squirrel\"}, {\"x\": 1.0672868490219116, \"y\": 3.9305033683776855, \"key\": \"tractor\"}, {\"x\": 4.903014183044434, \"y\": 5.580164432525635, \"key\": \"steak\"}, {\"x\": 3.520577907562256, \"y\": 5.735496520996094, \"key\": \"speedboat\"}, {\"x\": 3.896104097366333, \"y\": 2.639840841293335, \"key\": \"house\"}, {\"x\": 2.709949254989624, \"y\": 2.0184714794158936, \"key\": \"radio\"}, {\"x\": 6.907408714294434, \"y\": 2.547380208969116, \"key\": \"tooth\"}, {\"x\": 8.360854148864746, \"y\": 3.9121813774108887, \"key\": \"asparagus\"}, {\"x\": 5.362997531890869, \"y\": 2.371232748031616, \"key\": \"bed\"}, {\"x\": 4.81675910949707, \"y\": 4.3206963539123535, \"key\": \"bowtie\"}, {\"x\": 7.695933818817139, \"y\": 2.3567843437194824, \"key\": \"lighthouse\"}, {\"x\": 7.39619255065918, \"y\": 3.8628814220428467, \"key\": \"foot\"}, {\"x\": 8.770700454711914, \"y\": 3.761962652206421, \"key\": \"crayon\"}, {\"x\": 3.8534557819366455, \"y\": 4.9846649169921875, \"key\": \"sandwich\"}, {\"x\": 5.160057067871094, \"y\": 6.409152030944824, \"key\": \"basketball\"}, {\"x\": 4.844080924987793, \"y\": 8.91009521484375, \"key\": \"dragon\"}, {\"x\": 1.0020984411239624, \"y\": 3.7759578227996826, \"key\": \"train\"}, {\"x\": 4.834719657897949, \"y\": 9.505048751831055, \"key\": \"giraffe\"}, {\"x\": 4.5087890625, \"y\": 8.613860130310059, \"key\": \"angel\"}, {\"x\": 8.654606819152832, \"y\": 2.5872726440429688, \"key\": \"ice cream\"}, {\"x\": 5.873701095581055, \"y\": 7.336511135101318, \"key\": \"face\"}, {\"x\": 4.049556255340576, \"y\": 1.7785128355026245, \"key\": \"spreadsheet\"}, {\"x\": 5.30548620223999, \"y\": 6.672509670257568, \"key\": \"donut\"}, {\"x\": 9.265071868896484, \"y\": 3.7029473781585693, \"key\": \"wine bottle\"}, {\"x\": 7.591882705688477, \"y\": 4.627425193786621, \"key\": \"leaf\"}, {\"x\": 2.6083033084869385, \"y\": 4.115750789642334, \"key\": \"binoculars\"}, {\"x\": 3.8509442806243896, \"y\": 2.1513800621032715, \"key\": \"remote control\"}, {\"x\": 2.8240721225738525, \"y\": 2.0650243759155273, \"key\": \"stereo\"}, {\"x\": 5.784687042236328, \"y\": 6.701740741729736, \"key\": \"pizza\"}, {\"x\": 5.464508056640625, \"y\": 9.082292556762695, \"key\": \"dog\"}, {\"x\": 6.62791633605957, \"y\": 1.9042736291885376, \"key\": \"shorts\"}, {\"x\": 4.102215766906738, \"y\": 2.7706189155578613, \"key\": \"church\"}, {\"x\": 0.7045913338661194, \"y\": 3.7271840572357178, \"key\": \"bus\"}, {\"x\": 3.51621413230896, \"y\": 4.501305103302002, \"key\": \"cake\"}, {\"x\": 5.855278968811035, \"y\": 6.3241777420043945, \"key\": \"pineapple\"}, {\"x\": 3.5751051902770996, \"y\": 2.4139244556427, \"key\": \"cooler\"}, {\"x\": 6.459514617919922, \"y\": 6.523109436035156, \"key\": \"grapes\"}, {\"x\": 5.271995544433594, \"y\": 8.95890998840332, \"key\": \"elephant\"}, {\"x\": 2.715527296066284, \"y\": 4.212783336639404, \"key\": \"eyeglasses\"}, {\"x\": 6.490387439727783, \"y\": 5.543622016906738, \"key\": \"stethoscope\"}, {\"x\": 6.016550540924072, \"y\": 7.524148941040039, \"key\": \"skull\"}, {\"x\": 5.572841644287109, \"y\": 5.407869338989258, \"key\": \"peanut\"}, {\"x\": 7.833136081695557, \"y\": 2.5192270278930664, \"key\": \"axe\"}, {\"x\": 6.233861446380615, \"y\": 5.898341655731201, \"key\": \"necklace\"}, {\"x\": 6.008945465087891, \"y\": 2.534018039703369, \"key\": \"diving board\"}, {\"x\": 8.260412216186523, \"y\": 3.869901657104492, \"key\": \"paintbrush\"}, {\"x\": 0.9058103561401367, \"y\": 3.7073988914489746, \"key\": \"pickup truck\"}, {\"x\": 6.206234455108643, \"y\": 3.734282970428467, \"key\": \"rainbow\"}, {\"x\": 3.569668769836426, \"y\": 4.7621235847473145, \"key\": \"hot tub\"}, {\"x\": 8.556729316711426, \"y\": 3.550598382949829, \"key\": \"marker\"}, {\"x\": 7.319668769836426, \"y\": 3.426284074783325, \"key\": \"leg\"}, {\"x\": 3.1542820930480957, \"y\": 2.1627418994903564, \"key\": \"The Mona Lisa\"}, {\"x\": 2.8444442749023438, \"y\": 1.83180570602417, \"key\": \"washing machine\"}, {\"x\": 4.261026859283447, \"y\": 4.684024810791016, \"key\": \"skateboard\"}, {\"x\": 5.792476654052734, \"y\": 5.820427417755127, \"key\": \"potato\"}, {\"x\": 6.651712417602539, \"y\": 5.291050910949707, \"key\": \"scissors\"}, {\"x\": 4.331031322479248, \"y\": 8.851491928100586, \"key\": \"bird\"}, {\"x\": 6.950433731079102, \"y\": 1.8796818256378174, \"key\": \"anvil\"}, {\"x\": 4.916464805603027, \"y\": 7.56663703918457, \"key\": \"mouse\"}, {\"x\": 5.247824668884277, \"y\": 3.793894052505493, \"key\": \"saw\"}, {\"x\": 3.9882278442382812, \"y\": 6.792537689208984, \"key\": \"crocodile\"}, {\"x\": 5.3898186683654785, \"y\": 4.328821182250977, \"key\": \"saxophone\"}, {\"x\": 8.81556224822998, \"y\": 3.420078992843628, \"key\": \"knife\"}, {\"x\": 5.634199619293213, \"y\": 7.844288349151611, \"key\": \"sun\"}, {\"x\": 4.764169692993164, \"y\": 7.355890274047852, \"key\": \"teapot\"}, {\"x\": 6.413635730743408, \"y\": 7.135105609893799, \"key\": \"cloud\"}, {\"x\": 3.412801742553711, \"y\": 5.708014011383057, \"key\": \"sailboat\"}, {\"x\": 5.895719051361084, \"y\": 8.637319564819336, \"key\": \"monkey\"}, {\"x\": 6.732874393463135, \"y\": 2.258312940597534, \"key\": \"hourglass\"}, {\"x\": 4.662724494934082, \"y\": 1.7456241846084595, \"key\": \"square\"}, {\"x\": 3.8588597774505615, \"y\": 3.183406114578247, \"key\": \"lantern\"}, {\"x\": 4.4357147216796875, \"y\": 9.33357048034668, \"key\": \"flamingo\"}, {\"x\": 5.3643927574157715, \"y\": 3.2456390857696533, \"key\": \"crown\"}, {\"x\": 7.598546981811523, \"y\": 5.662868022918701, \"key\": \"ceiling fan\"}, {\"x\": 4.713047504425049, \"y\": 8.671205520629883, \"key\": \"bat\"}, {\"x\": 4.260125637054443, \"y\": 5.5635151863098145, \"key\": \"hat\"}, {\"x\": 4.899646759033203, \"y\": 4.073331832885742, \"key\": \"megaphone\"}, {\"x\": 7.986240386962891, \"y\": 6.16316556930542, \"key\": \"broccoli\"}, {\"x\": 3.879894256591797, \"y\": 6.814103603363037, \"key\": \"fish\"}, {\"x\": 3.288691997528076, \"y\": 1.4684157371520996, \"key\": \"computer\"}, {\"x\": 7.35252571105957, \"y\": 4.186690330505371, \"key\": \"arm\"}, {\"x\": 6.235559463500977, \"y\": 4.454242706298828, \"key\": \"garden hose\"}, {\"x\": 8.530305862426758, \"y\": 3.2264938354492188, \"key\": \"shovel\"}, {\"x\": 5.044369697570801, \"y\": 4.016286373138428, \"key\": \"flashlight\"}, {\"x\": 7.424125671386719, \"y\": 3.6101276874542236, \"key\": \"hockey stick\"}, {\"x\": 4.163005828857422, \"y\": 2.621936082839966, \"key\": \"couch\"}, {\"x\": 3.4453635215759277, \"y\": 5.453276634216309, \"key\": \"cruise ship\"}, {\"x\": 4.697969913482666, \"y\": 9.251008987426758, \"key\": \"kangaroo\"}, {\"x\": 5.287852764129639, \"y\": 8.725738525390625, \"key\": \"bee\"}, {\"x\": 6.133816242218018, \"y\": 5.431076526641846, \"key\": \"headphones\"}, {\"x\": 8.928418159484863, \"y\": 3.406766176223755, \"key\": \"sword\"}, {\"x\": 6.587845802307129, \"y\": 4.912386417388916, \"key\": \"animal migration\"}, {\"x\": 5.748512268066406, \"y\": 9.104410171508789, \"key\": \"tiger\"}, {\"x\": 4.832538604736328, \"y\": 5.410956859588623, \"key\": \"bread\"}, {\"x\": 3.453540325164795, \"y\": 3.3607757091522217, \"key\": \"paint can\"}, {\"x\": 5.37204122543335, \"y\": 6.601086139678955, \"key\": \"wheel\"}, {\"x\": 3.7206199169158936, \"y\": 6.714038848876953, \"key\": \"shark\"}, {\"x\": 5.850551605224609, \"y\": 9.155620574951172, \"key\": \"cat\"}, {\"x\": 1.8420112133026123, \"y\": 4.072142124176025, \"key\": \"motorbike\"}, {\"x\": 7.981594085693359, \"y\": 2.4858291149139404, \"key\": \"streetlight\"}, {\"x\": 4.565618991851807, \"y\": 5.842012882232666, \"key\": \"pond\"}, {\"x\": 5.2483601570129395, \"y\": 9.495131492614746, \"key\": \"camel\"}, {\"x\": 3.4007718563079834, \"y\": 3.7234761714935303, \"key\": \"coffee cup\"}, {\"x\": 7.2661590576171875, \"y\": 5.861242294311523, \"key\": \"garden\"}, {\"x\": 5.592136859893799, \"y\": 9.510496139526367, \"key\": \"horse\"}, {\"x\": 5.697638988494873, \"y\": 5.643073081970215, \"key\": \"circle\"}, {\"x\": 6.259735107421875, \"y\": 3.7843756675720215, \"key\": \"ocean\"}, {\"x\": 6.041254997253418, \"y\": 5.078985691070557, \"key\": \"paper clip\"}, {\"x\": 3.8488502502441406, \"y\": 2.6217598915100098, \"key\": \"barn\"}, {\"x\": 4.984505653381348, \"y\": 1.7154295444488525, \"key\": \"pillow\"}, {\"x\": 6.64391565322876, \"y\": 2.1285276412963867, \"key\": \"diamond\"}, {\"x\": 8.091309547424316, \"y\": 3.9662859439849854, \"key\": \"rake\"}, {\"x\": 4.854220867156982, \"y\": 8.340215682983398, \"key\": \"mosquito\"}, {\"x\": 2.8988142013549805, \"y\": 2.0411548614501953, \"key\": \"stove\"}, {\"x\": 6.4334211349487305, \"y\": 4.027944564819336, \"key\": \"river\"}, {\"x\": 4.578834056854248, \"y\": 8.883360862731934, \"key\": \"mermaid\"}, {\"x\": 3.8307459354400635, \"y\": 5.445990085601807, \"key\": \"canoe\"}, {\"x\": 3.292102575302124, \"y\": 2.249876022338867, \"key\": \"fireplace\"}, {\"x\": 5.917945384979248, \"y\": 8.701680183410645, \"key\": \"panda\"}, {\"x\": 7.911095142364502, \"y\": 5.69215726852417, \"key\": \"windmill\"}, {\"x\": 7.995290756225586, \"y\": 3.8196349143981934, \"key\": \"toothbrush\"}, {\"x\": 7.826510906219482, \"y\": 5.874272346496582, \"key\": \"fan\"}, {\"x\": 3.300145149230957, \"y\": 1.8667900562286377, \"key\": \"map\"}, {\"x\": 7.121516704559326, \"y\": 3.520536184310913, \"key\": \"nose\"}, {\"x\": 4.177166938781738, \"y\": 5.546545505523682, \"key\": \"mouth\"}, {\"x\": 3.7791268825531006, \"y\": 5.085339546203613, \"key\": \"bathtub\"}, {\"x\": 6.407346725463867, \"y\": 6.491746425628662, \"key\": \"peas\"}, {\"x\": 8.550006866455078, \"y\": 2.1191318035125732, \"key\": \"umbrella\"}, {\"x\": 4.1507768630981445, \"y\": 3.6201436519622803, \"key\": \"toilet\"}, {\"x\": 7.309041976928711, \"y\": 1.8098714351654053, \"key\": \"jacket\"}, {\"x\": 8.785755157470703, \"y\": 2.5705947875976562, \"key\": \"light bulb\"}, {\"x\": 5.548747539520264, \"y\": 8.372949600219727, \"key\": \"sea turtle\"}, {\"x\": 5.9502973556518555, \"y\": 5.329610824584961, \"key\": \"ear\"}, {\"x\": 4.292987823486328, \"y\": 3.2856945991516113, \"key\": \"telephone\"}, {\"x\": 4.172759056091309, \"y\": 5.867287635803223, \"key\": \"shoe\"}, {\"x\": 5.962327003479004, \"y\": 8.965461730957031, \"key\": \"pig\"}, {\"x\": 9.385052680969238, \"y\": 3.492680072784424, \"key\": \"candle\"}, {\"x\": 7.41876220703125, \"y\": 5.360495567321777, \"key\": \"snowflake\"}, {\"x\": 3.584233522415161, \"y\": 1.8364695310592651, \"key\": \"calendar\"}, {\"x\": 6.641000270843506, \"y\": 7.135378360748291, \"key\": \"bush\"}, {\"x\": 6.8457865715026855, \"y\": 5.578647613525391, \"key\": \"rain\"}, {\"x\": 4.851896286010742, \"y\": 5.196540355682373, \"key\": \"helmet\"}, {\"x\": 8.175867080688477, \"y\": 5.783421516418457, \"key\": \"palm tree\"}, {\"x\": 5.033855438232422, \"y\": 4.25678014755249, \"key\": \"trumpet\"}, {\"x\": 0.7751429080963135, \"y\": 3.736318349838257, \"key\": \"truck\"}, {\"x\": 6.715462684631348, \"y\": 4.026586055755615, \"key\": \"waterslide\"}, {\"x\": 8.805112838745117, \"y\": 3.3167641162872314, \"key\": \"baseball bat\"}, {\"x\": 0.7796932458877563, \"y\": 3.957371950149536, \"key\": \"police car\"}, {\"x\": 6.653595447540283, \"y\": 1.8655494451522827, \"key\": \"underwear\"}, {\"x\": 3.5946855545043945, \"y\": 3.1932764053344727, \"key\": \"purse\"}, {\"x\": 3.239651918411255, \"y\": 4.670651912689209, \"key\": \"sink\"}, {\"x\": 6.335186958312988, \"y\": 2.3168904781341553, \"key\": \"hexagon\"}, {\"x\": 5.850820064544678, \"y\": 2.0405850410461426, \"key\": \"eraser\"}, {\"x\": 4.252012729644775, \"y\": 1.920609712600708, \"key\": \"suitcase\"}, {\"x\": 4.673422336578369, \"y\": 4.487129211425781, \"key\": \"cannon\"}, {\"x\": 5.599150657653809, \"y\": 5.323829174041748, \"key\": \"flip flops\"}, {\"x\": 6.3671674728393555, \"y\": 2.9389376640319824, \"key\": \"ladder\"}, {\"x\": 3.252169132232666, \"y\": 1.9945515394210815, \"key\": \"passport\"}, {\"x\": 3.787623882293701, \"y\": 6.076682090759277, \"key\": \"submarine\"}, {\"x\": 5.708329200744629, \"y\": 5.532757759094238, \"key\": \"pear\"}, {\"x\": 6.53441858291626, \"y\": 6.719664573669434, \"key\": \"blackberry\"}, {\"x\": 3.309805154800415, \"y\": 3.540316343307495, \"key\": \"cup\"}, {\"x\": 6.663271903991699, \"y\": 3.65998911857605, \"key\": \"lightning\"}, {\"x\": 6.162591934204102, \"y\": 2.127650499343872, \"key\": \"octagon\"}, {\"x\": 7.929985523223877, \"y\": 2.134077787399292, \"key\": \"hammer\"}, {\"x\": 4.448002338409424, \"y\": 5.3756513595581055, \"key\": \"hockey puck\"}, {\"x\": 6.804165840148926, \"y\": 6.707805156707764, \"key\": \"camouflage\"}, {\"x\": 5.440619945526123, \"y\": 4.750338077545166, \"key\": \"cello\"}, {\"x\": 5.3300580978393555, \"y\": 6.602200984954834, \"key\": \"clock\"}, {\"x\": 3.080697536468506, \"y\": 3.999523162841797, \"key\": \"drums\"}, {\"x\": 6.689151763916016, \"y\": 4.3995842933654785, \"key\": \"boomerang\"}, {\"x\": 5.124217510223389, \"y\": 5.688574314117432, \"key\": \"harp\"}, {\"x\": 6.872920036315918, \"y\": 3.0760579109191895, \"key\": \"triangle\"}, {\"x\": 5.293924331665039, \"y\": 4.656240463256836, \"key\": \"guitar\"}, {\"x\": 8.113137245178223, \"y\": 2.293464183807373, \"key\": \"floor lamp\"}, {\"x\": 5.82310676574707, \"y\": 8.742588996887207, \"key\": \"bear\"}, {\"x\": 7.492693901062012, \"y\": 4.8298492431640625, \"key\": \"cactus\"}, {\"x\": 3.4171388149261475, \"y\": 4.371889591217041, \"key\": \"birthday cake\"}, {\"x\": 5.498586654663086, \"y\": 8.274858474731445, \"key\": \"frog\"}, {\"x\": 5.586328983306885, \"y\": 2.408590793609619, \"key\": \"table\"}, {\"x\": 3.4160587787628174, \"y\": 2.6802914142608643, \"key\": \"toaster\"}, {\"x\": 6.167334079742432, \"y\": 4.239846706390381, \"key\": \"roller coaster\"}, {\"x\": 5.315749645233154, \"y\": 8.539679527282715, \"key\": \"ant\"}, {\"x\": 5.8502302169799805, \"y\": 9.229252815246582, \"key\": \"cow\"}, {\"x\": 6.219043254852295, \"y\": 2.968308687210083, \"key\": \"see saw\"}, {\"x\": 8.824272155761719, \"y\": 3.122253894805908, \"key\": \"popsicle\"}, {\"x\": 6.0675740242004395, \"y\": 2.8982133865356445, \"key\": \"rifle\"}, {\"x\": 4.486461162567139, \"y\": 5.117709636688232, \"key\": \"bottlecap\"}, {\"x\": 5.445252418518066, \"y\": 4.226174354553223, \"key\": \"belt\"}, {\"x\": 6.287045955657959, \"y\": 6.822765350341797, \"key\": \"brain\"}, {\"x\": 6.301977157592773, \"y\": 5.186575412750244, \"key\": \"moon\"}, {\"x\": 3.2724204063415527, \"y\": 1.7410014867782593, \"key\": \"dresser\"}, {\"x\": 3.655186414718628, \"y\": 1.9282134771347046, \"key\": \"calculator\"}, {\"x\": 5.667441368103027, \"y\": 6.210052013397217, \"key\": \"apple\"}, {\"x\": 5.720718860626221, \"y\": 6.576056957244873, \"key\": \"blueberry\"}, {\"x\": 3.9054887294769287, \"y\": 1.3068541288375854, \"key\": \"envelope\"}, {\"x\": 3.7301149368286133, \"y\": 2.030715227127075, \"key\": \"cell phone\"}]}}, {\"mode\": \"vega-lite\"});\n",
              "</script>"
            ],
            "text/plain": [
              "alt.Chart(...)"
            ]
          },
          "metadata": {
            "tags": []
          },
          "execution_count": 13
        }
      ]
    },
    {
      "cell_type": "code",
      "metadata": {
        "id": "31XJ2ADlGbWn"
      },
      "source": [
        "embed_df = pd.DataFrame(values)\n",
        "compression_opts = dict(method='zip',\n",
        "                        archive_name='out.csv')  \n",
        "embed_df.to_csv('tok-dict-out.zip', index=False,\n",
        "          compression=compression_opts)  "
      ],
      "execution_count": null,
      "outputs": []
    },
    {
      "cell_type": "code",
      "metadata": {
        "id": "GKT_nYNkHKhT"
      },
      "source": [
        ""
      ],
      "execution_count": null,
      "outputs": []
    }
  ]
}